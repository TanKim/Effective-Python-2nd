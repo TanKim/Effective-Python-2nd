{
 "cells": [
  {
   "cell_type": "markdown",
   "metadata": {},
   "source": [
    "## BETTER WAY 5. 도우미 함수"
   ]
  },
  {
   "cell_type": "code",
   "execution_count": 1,
   "metadata": {},
   "outputs": [],
   "source": [
    "from urllib.parse import parse_qs"
   ]
  },
  {
   "cell_type": "code",
   "execution_count": 45,
   "metadata": {},
   "outputs": [],
   "source": [
    "my_values = parse_qs('red=5&blue=0&green=', keep_blank_values=True)"
   ]
  },
  {
   "cell_type": "code",
   "execution_count": 46,
   "metadata": {},
   "outputs": [
    {
     "name": "stdout",
     "output_type": "stream",
     "text": [
      "{'red': ['5'], 'blue': ['0'], 'green': ['']}\n"
     ]
    }
   ],
   "source": [
    "print(repr(my_values))"
   ]
  },
  {
   "cell_type": "code",
   "execution_count": 47,
   "metadata": {},
   "outputs": [
    {
     "name": "stdout",
     "output_type": "stream",
     "text": [
      "red: ['5']\n",
      "blue: ['0']\n",
      "green: ['']\n"
     ]
    }
   ],
   "source": [
    "print('red:', my_values.get('red'))\n",
    "print('blue:', my_values.get('blue'))\n",
    "print('green:', my_values.get('green'))"
   ]
  },
  {
   "cell_type": "code",
   "execution_count": 48,
   "metadata": {},
   "outputs": [
    {
     "data": {
      "text/plain": [
       "0"
      ]
     },
     "execution_count": 48,
     "metadata": {},
     "output_type": "execute_result"
    }
   ],
   "source": [
    "my_values.get('red2', [''])[0] or 0"
   ]
  },
  {
   "cell_type": "code",
   "execution_count": 53,
   "metadata": {},
   "outputs": [],
   "source": [
    "#도우미함수\n",
    "def get_first_int(values, key, default=0):\n",
    "    found = values.get(key, [''])\n",
    "    return int(found[0]) if found[0] else default"
   ]
  },
  {
   "cell_type": "code",
   "execution_count": 54,
   "metadata": {},
   "outputs": [
    {
     "name": "stdout",
     "output_type": "stream",
     "text": [
      "5 0 0\n"
     ]
    }
   ],
   "source": [
    "red = get_first_int(my_values, 'red')\n",
    "green = get_first_int(my_values, 'green')\n",
    "blue = get_first_int(my_values, 'blue')\n",
    "print(red, green, blue)"
   ]
  },
  {
   "cell_type": "markdown",
   "metadata": {},
   "source": [
    "## BETTER WAY 6. 인덱스를 사용하는 대신 대입을 사용해 데이터를 언패킹하라"
   ]
  },
  {
   "cell_type": "code",
   "execution_count": 55,
   "metadata": {},
   "outputs": [],
   "source": [
    "snack_calories = { '감자칩':140, '팝콘':80, '땅콩': 190}"
   ]
  },
  {
   "cell_type": "code",
   "execution_count": 58,
   "metadata": {},
   "outputs": [],
   "source": [
    "items = tuple(snack_calories.items())"
   ]
  },
  {
   "cell_type": "code",
   "execution_count": 68,
   "metadata": {},
   "outputs": [],
   "source": [
    "item = ('호박엿','식혜')\n",
    "first, second = item# 언패킹"
   ]
  },
  {
   "cell_type": "code",
   "execution_count": 69,
   "metadata": {},
   "outputs": [
    {
     "name": "stdout",
     "output_type": "stream",
     "text": [
      "호박엿 & 식혜\n"
     ]
    }
   ],
   "source": [
    "print(first, '&', second)"
   ]
  },
  {
   "cell_type": "code",
   "execution_count": 71,
   "metadata": {},
   "outputs": [],
   "source": [
    "# bubble sort에서의 언패킹을 통한 자리바꾸기\n",
    "def bubble_sort(a):\n",
    "    for _ in range(len(a)):\n",
    "        for i in range(1, len(a)):\n",
    "            if a[i] < a[i-1]:\n",
    "                a[i-1], a[i] = a[i], a[i-1] # 맞바꾸기"
   ]
  },
  {
   "cell_type": "code",
   "execution_count": 75,
   "metadata": {},
   "outputs": [],
   "source": [
    "names = ['d', 'ed', 'ba', 'aa']"
   ]
  },
  {
   "cell_type": "code",
   "execution_count": 76,
   "metadata": {},
   "outputs": [],
   "source": [
    "bubble_sort(names)"
   ]
  },
  {
   "cell_type": "code",
   "execution_count": 77,
   "metadata": {},
   "outputs": [
    {
     "data": {
      "text/plain": [
       "['aa', 'ba', 'd', 'ed']"
      ]
     },
     "execution_count": 77,
     "metadata": {},
     "output_type": "execute_result"
    }
   ],
   "source": [
    "names"
   ]
  },
  {
   "cell_type": "code",
   "execution_count": 83,
   "metadata": {},
   "outputs": [
    {
     "name": "stdout",
     "output_type": "stream",
     "text": [
      "#1: 감자칩은 140 칼로리 입니다.\n",
      "#2: 팝콘은 80 칼로리 입니다.\n",
      "#3: 땅콩은 190 칼로리 입니다.\n"
     ]
    }
   ],
   "source": [
    "for rank, (name, calories) in enumerate(items, 1): # 언패킹과 enumerate를 1부터 시작\n",
    "    print(f'#{rank}: {name}은 {calories} 칼로리 입니다.')"
   ]
  },
  {
   "cell_type": "markdown",
   "metadata": {},
   "source": [
    "## BETTER WAY 7. range보다는 enumerate를 사용하라"
   ]
  },
  {
   "cell_type": "code",
   "execution_count": null,
   "metadata": {},
   "outputs": [],
   "source": []
  }
 ],
 "metadata": {
  "kernelspec": {
   "display_name": "Python 3",
   "language": "python",
   "name": "python3"
  },
  "language_info": {
   "codemirror_mode": {
    "name": "ipython",
    "version": 3
   },
   "file_extension": ".py",
   "mimetype": "text/x-python",
   "name": "python",
   "nbconvert_exporter": "python",
   "pygments_lexer": "ipython3",
   "version": "3.7.9"
  }
 },
 "nbformat": 4,
 "nbformat_minor": 4
}
